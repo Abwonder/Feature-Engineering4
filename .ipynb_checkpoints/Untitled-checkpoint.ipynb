{
 "cells": [
  {
   "cell_type": "markdown",
   "id": "51216215",
   "metadata": {},
   "source": [
    "### Features Engineering 4"
   ]
  },
  {
   "cell_type": "markdown",
   "id": "d8b1fa23",
   "metadata": {},
   "source": [
    "### Question 1\n",
    "\n",
    "Q1. What is data encoding? How is it useful in data science?\n",
    "\n",
    "__Answer__\n",
    "\n",
    "Data encoding is the process of converting data from one format to another. In the context of data science, it often refers to the process of converting categorical data into numerical data that can be used as input for machine learning algorithms.\n",
    "\n",
    "For more context, categorical data is data that can be divided into categories or groups, such as gender (male or female), color (red, green, blue), or size (small, medium, large). Many machine learning algorithms require numerical input data, so it is necessary to encode categorical data into a numerical format before using it as input for these algorithms.\n",
    "\n",
    "There are several common techniques for encoding categorical data, including:\n",
    "1. one-hot encoding\n",
    "2. label encoding\n",
    "3. binary encoding. \n",
    "\n",
    "However, each technique has its own advantages and disadvantages and the choice of encoding method will depend on the specific use case.\n",
    "\n",
    "__Usefulness__\n",
    "\n",
    "Data encoding is useful in data science because it allows us to convert categorical data into a format that can be used as input for machine learning algorithms. This enables us to include categorical features in our models and can improve the performance of our algorithms by providing additional information about the data."
   ]
  },
  {
   "cell_type": "markdown",
   "id": "fd811d93",
   "metadata": {},
   "source": [
    "### Question 2\n",
    "\n",
    "Q2. What is nominal encoding? Provide an example of how you would use it in a real-world scenario\n",
    "\n",
    "__Answer__\n",
    "\n",
    "Nominal encoding, also known as one-hot encoding or dummy encoding, is a technique used in machine learning to represent categorical variables with binary values. In nominal encoding, each unique category of a categorical variable is assigned a binary value (0 or 1), where 0 indicates the absence of the category and 1 indicates the presence of the category.\n",
    "\n",
    "\n",
    "__A real-world scenario:__\n",
    "\n",
    "Suppose you are building a recommendation system for a movie streaming service. One of the features you want to include in your model is the genre of a movie, which can be a categorical variable with values such as \"Action,\" \"Comedy,\" \"Drama,\" etc. Since machine learning models typically work with numerical data, you need to encode these categorical values into binary values using nominal encoding.\n",
    "\n",
    "You can create binary columns for each genre category, and for each movie in your dataset, set the corresponding binary value to 1 if the movie belongs to that genre, and 0 otherwise. For example, if a movie is classified as an \"Action\" movie, the \"Action\" column will have a value of 1, and the columns for other genres will have values of 0. This way, the categorical variable \"genre\" is converted into a binary feature representation that can be used as input to your machine learning model.\n",
    "\n",
    "Here's an example of how the nominal encoding might look like for a movie dataset:\n",
    "\n",
    "Movie\tGenre\tAction\tComedy\tDrama\n",
    "Movie1\tAction\t  1\t       0\t0\n",
    "Movie2\tComedy\t  0\t       1\t0\n",
    "Movie3\tDrama\t  0\t       0\t1\n",
    "Movie4\tAction\t  1\t       0\t0\n",
    "\n",
    "__Further Explanation__\n",
    "\n",
    "In this example, the \"Genre\" column is nominal encoded into three binary columns \"Action,\" \"Comedy,\" and \"Drama,\" where each binary column represents the presence or absence of a specific genre for each movie in the dataset. This nominal encoding allows the machine learning model to understand and utilize the categorical variable \"genre\" as input for making recommendations. \n",
    "\n",
    "So, for instance, if you are building a recommendation model and a user prefers action movies, the model can leverage the binary \"Action\" column to make personalized recommendations accordingly. \n",
    "\n",
    "Overall, nominal encoding is a common technique used to represent categorical variables in machine learning models, allowing them to work effectively with categorical data.\n",
    "\n",
    "Overall, nominal encoding is a common technique used to represent categorical variables in machine learning models, allowing them to work effectively with categorical data.\n",
    "\n",
    "\n",
    "\n",
    "\n"
   ]
  },
  {
   "cell_type": "markdown",
   "id": "d6aeba33",
   "metadata": {},
   "source": [
    "### Question 3\n",
    "\n",
    "Q3. In what situations is nominal encoding preferred over one-hot encoding? Provide a practical example.\n",
    "\n",
    "__Answer__\n",
    "\n",
    "__Nominal encoding__ is preferred over one-hot encoding in situations where the categorical variables have a large number of unique values or levels. One practical example is when dealing with text data, such as words in a document or product names in an e-commerce dataset.\n",
    "\n",
    "__Example__\n",
    "\n",
    "For instance, consider a dataset of customer reviews for a product, where the review text contains multiple words. One-hot encoding would create a binary feature for each unique word in the text, resulting in a very high-dimensional and sparse dataset. This can lead to increased computational complexity and storage requirements, and may also cause issues with overfitting in machine learning models.\n",
    "\n",
    "So, nominal encoding can be used to map each unique word to a numeric code or index, without creating separate binary features for each word. This reduces the dimensionality of the dataset and makes it more manageable for analysis and modeling. Additionally, nominal encoding can help capture any potential relationships or patterns among the different words, as they are represented by numerical values.\n"
   ]
  },
  {
   "cell_type": "markdown",
   "id": "6ac64750",
   "metadata": {},
   "source": [
    "### Question 4\n",
    "\n",
    "Q4. Suppose you have a dataset containing categorical data with 5 unique values. Which encoding technique would you use to transform this data into a format suitable for machine learning algorithms? Explain why you made this choice.\n",
    "\n",
    "__Answer__\n",
    "\n",
    "One-hot encoding will be my go to choice for this scenario.\n",
    "\n",
    "__Reason__\n",
    "\n",
    "Because the dimensionality is will not be too complex and each category can contribute meaningfully to the machine learning algorithms\n",
    "\n",
    "straightforward and interpretable representation of the categorical data, where each category is treated as a separate binary feature.  This allows machine learning algorithms to easily capture any potential relationships or patterns among the different categories.\n",
    "\n",
    "it is commonly supported by most machine learning libraries and algorithms, making it a convenient choice for data preprocessing.\n",
    "\n",
    "preserves the ordinality of the categories, as each category is represented by a separate binary feature, allowing the algorithms to capture any potential ordinal relationships among the categories if they exist.\n",
    "\n"
   ]
  },
  {
   "cell_type": "markdown",
   "id": "e13f04ab",
   "metadata": {},
   "source": [
    "### Question 5\n",
    "\n",
    "Q5. In a machine learning project, you have a dataset with 1000 rows and 5 columns. Two of the columns are categorical, and the remaining three columns are numerical. If you were to use nominal encoding to transform the categorical data, how many new columns would be created? Show your calculations.\n",
    "\n",
    "\n",
    "__Answer__\n",
    "\n",
    "Assuming that the first categorical column has 10 unique categories, and the second categorical column has 5 unique categories.\n",
    "\n",
    "For the first categorical column with 10 unique categories, nominal encoding would create 10 new columns (one for each category) with binary values (0/1) representing the presence or absence of each category.\n",
    "\n",
    "For the second categorical column with 5 unique categories, nominal encoding would create 5 new columns (one for each category) with binary values (0/1) representing the presence or absence of each category.\n",
    "\n",
    "Therefore, in total, nominal encoding would create 10 + 5 = 15 new columns in this scenario.\n",
    "\n",
    "\n",
    "Check below to see example solved with code"
   ]
  },
  {
   "cell_type": "code",
   "execution_count": 1,
   "id": "bb2f5c4c",
   "metadata": {},
   "outputs": [
    {
     "name": "stdout",
     "output_type": "stream",
     "text": [
      "Number of new columns created by nominal encoding:  8\n"
     ]
    }
   ],
   "source": [
    "import pandas as pd\n",
    "\n",
    "# Generate sample data\n",
    "data = {\n",
    "    'categorical_col1': ['A', 'B', 'C', 'D', 'E'] * 200,  # 5 unique categories\n",
    "    'categorical_col2': ['X', 'Y', 'Z', 'W', 'V'] * 200,  # 5 unique categories\n",
    "    'numerical_col1': [1, 2, 3, 4, 5] * 200,\n",
    "    'numerical_col2': [10, 20, 30, 40, 50] * 200,\n",
    "    'numerical_col3': [100, 200, 300, 400, 500] * 200\n",
    "}\n",
    "\n",
    "df = pd.DataFrame(data)\n",
    "\n",
    "# Perform nominal encoding\n",
    "df_nominal = pd.get_dummies(df, columns=['categorical_col1', 'categorical_col2'])\n",
    "\n",
    "# Calculate number of new columns created\n",
    "num_new_columns = df_nominal.shape[1] - df.shape[1]\n",
    "\n",
    "print(\"Number of new columns created by nominal encoding: \", num_new_columns)\n"
   ]
  },
  {
   "cell_type": "markdown",
   "id": "fe4512fa",
   "metadata": {},
   "source": [
    "### Question 6\n",
    "\n",
    "Q6. You are working with a dataset containing information about different types of animals, including their species, habitat, and diet. Which encoding technique would you use to transform the categorical data into a format suitable for machine learning algorithms? Justify your answer.\n",
    "\n",
    "__Answer__\n",
    "\n",
    "I will use __One-Hot Encoding Technique__ because:\n",
    "\n",
    "1. the features are categorical variables that are not ranked or have a natural order of existence. \n",
    "\n",
    "2. each animal can belong to only one category within each feature making one hot coding best technique\n",
    "\n",
    "Moreso, level of categories within these feature is not will be greater than or equal to 5 each\n"
   ]
  },
  {
   "cell_type": "markdown",
   "id": "82b2df97",
   "metadata": {},
   "source": [
    "### Question 7\n",
    "\n",
    "Q7.You are working on a project that involves predicting customer churn for a telecommunications company. You have a dataset with 5 features, including the customer's gender, age, contract type, monthly charges, and tenure. Which encoding technique(s) would you use to transform the categorical data into numerical data? Provide a step-by-step explanation of how you would implement the encoding.\n",
    "\n",
    "__Answer__\n",
    "\n",
    "In this dataset, the categorical variables are gender and contract type:\n",
    "\n",
    "I will use two encoding techniques which are:\n",
    "\n",
    "1. Label encoding\n",
    "2. One hot encoding\n",
    "\n",
    "__Step_by_step explanation__\n",
    "\n",
    "1. Contact type: identify the level of this categories, hypothetically: we will have (a) Month (b) year (c) two year, so these can be label coded respective with 0, 1 and 2.\n",
    "\n",
    "\n",
    "2. Gender: One-Hot encoding will be used for this feaute, which has 2 categories (Male and Female) In this case, a new feature would be created for Male and another for Female. If a customer is male, the Male feature would be 1 and the Female feature would be 0. If a customer is female, the Female feature would be 1 and the Male feature would be 0.\n",
    "\n"
   ]
  },
  {
   "cell_type": "code",
   "execution_count": null,
   "id": "5be0a6c6",
   "metadata": {},
   "outputs": [],
   "source": [
    "### label encoding\n",
    "\n",
    "from sklearn.preprocessing import LabelEncoder\n",
    "\n",
    "# create LabelEncoder object\n",
    "le = LabelEncoder()\n",
    "\n",
    "# fit and transform the 'Contract type' feature\n",
    "data['Contract type'] = le.fit_transform(data['Contract type'])"
   ]
  },
  {
   "cell_type": "code",
   "execution_count": null,
   "id": "0095c342",
   "metadata": {},
   "outputs": [],
   "source": [
    "### for one_hot encoding\n",
    "\n",
    "import pandas as pd\n",
    "\n",
    "# apply One-Hot Encoding to the 'Gender' feature\n",
    "gender_onehot = pd.get_dummies(data['Gender'], prefix='Gender')\n",
    "\n",
    "# concatenate the new binary features with the original dataset\n",
    "data = pd.concat([data, gender_onehot], axis=1)\n",
    "\n",
    "# drop the original 'Gender' feature from the dataset\n",
    "data = data.drop(['Gender'], axis=1)"
   ]
  },
  {
   "cell_type": "markdown",
   "id": "c986e7f3",
   "metadata": {},
   "source": [
    "### The End"
   ]
  }
 ],
 "metadata": {
  "kernelspec": {
   "display_name": "Python 3 (ipykernel)",
   "language": "python",
   "name": "python3"
  },
  "language_info": {
   "codemirror_mode": {
    "name": "ipython",
    "version": 3
   },
   "file_extension": ".py",
   "mimetype": "text/x-python",
   "name": "python",
   "nbconvert_exporter": "python",
   "pygments_lexer": "ipython3",
   "version": "3.9.12"
  }
 },
 "nbformat": 4,
 "nbformat_minor": 5
}
